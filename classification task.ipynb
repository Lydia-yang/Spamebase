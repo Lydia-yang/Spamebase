{
 "cells": [
  {
   "cell_type": "markdown",
   "source": [
    "## Import Libraries"
   ],
   "metadata": {
    "collapsed": false,
    "pycharm": {
     "name": "#%% md\n"
    }
   }
  },
  {
   "cell_type": "code",
   "source": [
    "import numpy as np\n",
    "from sklearn.model_selection import KFold\n",
    "from sklearn import svm\n",
    "from sklearn.preprocessing import StandardScaler\n",
    "from sklearn.preprocessing import FunctionTransformer\n",
    "from numpy import log1p\n",
    "from IPython.display import HTML"
   ],
   "metadata": {
    "collapsed": false,
    "pycharm": {
     "name": "#%%\n"
    }
   },
   "execution_count": 14,
   "outputs": []
  },
  {
   "cell_type": "markdown",
   "source": [
    "## Read Data"
   ],
   "metadata": {
    "collapsed": false,
    "pycharm": {
     "name": "#%% md\n"
    }
   }
  },
  {
   "cell_type": "code",
   "source": [
    "# read data and split features and labels\n",
    "datas = np.loadtxt('spambase.data', dtype=float, delimiter=',')\n",
    "data, label = np.split(datas,(57,),axis=1)\n",
    "data.shape, label.shape"
   ],
   "metadata": {
    "collapsed": false,
    "pycharm": {
     "name": "#%%\n"
    }
   },
   "execution_count": 15,
   "outputs": [
    {
     "data": {
      "text/plain": "((4601, 57), (4601, 1))"
     },
     "execution_count": 15,
     "metadata": {},
     "output_type": "execute_result"
    }
   ]
  },
  {
   "cell_type": "markdown",
   "source": [
    "## Preprocessing Features"
   ],
   "metadata": {
    "collapsed": false
   }
  },
  {
   "cell_type": "code",
   "execution_count": 16,
   "outputs": [
    {
     "data": {
      "text/plain": "array([[-0.41920969,  0.28584406,  0.53816377, ..., -0.0463029 ,\n         0.04430194, -0.00876241],\n       [ 0.29666119,  0.05060679,  0.36125512, ..., -0.00244626,\n         0.22359372,  0.80124976],\n       [-0.15773204, -0.18040968,  0.61611677, ...,  0.13620855,\n         1.16972478,  1.44897158],\n       ...,\n       [ 0.49477421, -0.18040968,  0.03765554, ..., -0.12713141,\n        -0.27042036, -0.3183169 ],\n       [ 1.33546499, -0.18040968, -0.8136452 , ..., -0.13637276,\n        -0.27716815, -0.413402  ],\n       [-0.41920969, -0.18040968,  0.54967891, ..., -0.13265876,\n        -0.27716815, -0.51296251]])"
     },
     "execution_count": 16,
     "metadata": {},
     "output_type": "execute_result"
    }
   ],
   "source": [
    "# standardization and transformation\n",
    "data = StandardScaler().fit_transform(data)\n",
    "data = FunctionTransformer(log1p).fit_transform(data)\n",
    "data"
   ],
   "metadata": {
    "collapsed": false,
    "pycharm": {
     "name": "#%%\n"
    }
   }
  },
  {
   "cell_type": "markdown",
   "source": [
    "## K-Fold Cross-Validation"
   ],
   "metadata": {
    "collapsed": false
   }
  },
  {
   "cell_type": "code",
   "execution_count": 17,
   "outputs": [],
   "source": [
    "# spilt into 5 folds with shuffle\n",
    "kf = KFold(5, shuffle=True, random_state=0)"
   ],
   "metadata": {
    "collapsed": false,
    "pycharm": {
     "name": "#%%\n"
    }
   }
  },
  {
   "cell_type": "markdown",
   "source": [
    "## Evaluation Metrics"
   ],
   "metadata": {
    "collapsed": false
   }
  },
  {
   "cell_type": "code",
   "execution_count": 18,
   "outputs": [],
   "source": [
    "# build function to calculate FP, FN and error rates\n",
    "FPlists = []\n",
    "FNlists = []\n",
    "errorlists = []\n",
    "def evaluate(y_pre, y_true):\n",
    "    TP = 0\n",
    "    TN = 0\n",
    "    FP = 0\n",
    "    FN = 0\n",
    "    for i in range(0, len(y_true)):\n",
    "        if y_true[i] == y_pre[i] == 1:\n",
    "            TP += 1\n",
    "        elif y_true[i] == y_pre[i] == 0:\n",
    "            TN += 1\n",
    "        elif y_true[i] == 1 and y_pre[i] == 0:\n",
    "            FN += 1\n",
    "        elif y_true[i] == 0 and y_pre[i] == 1:\n",
    "            FP += 1\n",
    "    FPlists.append(FP/(FP+TN))\n",
    "    FNlists.append(FN/(FN+TP))\n",
    "    errorlists.append((FP+FN)/(FP+FN+TP+TN))"
   ],
   "metadata": {
    "collapsed": false,
    "pycharm": {
     "name": "#%%\n"
    }
   }
  },
  {
   "cell_type": "markdown",
   "source": [
    "## Train Model"
   ],
   "metadata": {
    "collapsed": false,
    "pycharm": {
     "name": "#%% md\n"
    }
   }
  },
  {
   "cell_type": "code",
   "execution_count": 19,
   "outputs": [
    {
     "data": {
      "text/plain": "(0.9778853513341129, 0.9517504602747486)"
     },
     "execution_count": 19,
     "metadata": {},
     "output_type": "execute_result"
    }
   ],
   "source": [
    "# use svm to classify\n",
    "train_acc = 0\n",
    "test_acc = 0\n",
    "for train_index,test_index in kf.split(data):\n",
    "    x_train, x_test = data[train_index,:], data[test_index,:]\n",
    "    y_train, y_test = label[train_index,:], label[test_index,:]\n",
    "    clf_svm = svm.SVC(C=4.3)\n",
    "    clf_svm.fit(x_train, y_train.ravel())\n",
    "    preidcted = clf_svm.predict(x_test)\n",
    "    evaluate(preidcted, y_test)\n",
    "    train_acc += clf_svm.score(x_train, y_train)\n",
    "    test_acc += clf_svm.score(x_test, y_test)\n",
    "# overall train accuracy and test accuracy\n",
    "train_acc/5, test_acc/5"
   ],
   "metadata": {
    "collapsed": false,
    "pycharm": {
     "name": "#%%\n"
    }
   }
  },
  {
   "cell_type": "markdown",
   "source": [
    "## Display Results"
   ],
   "metadata": {
    "collapsed": false
   }
  },
  {
   "cell_type": "code",
   "execution_count": 20,
   "outputs": [
    {
     "data": {
      "text/plain": "<IPython.core.display.HTML object>",
      "text/html": "<table><tr><td>Fold</td><td>False Positive</td><td>False Negative</td><td>Error Rates</td></tr><tr><td>1</td><td>0.03345724907063197</td><td>0.0783289817232376</td><td>0.05211726384364821</td></tr><tr><td>2</td><td>0.025044722719141325</td><td>0.08310249307479224</td><td>0.04782608695652174</td></tr><tr><td>3</td><td>0.027985074626865673</td><td>0.07291666666666667</td><td>0.04673913043478261</td></tr><tr><td>4</td><td>0.041884816753926704</td><td>0.07780979827089338</td><td>0.05543478260869565</td></tr><tr><td>5</td><td>0.03264604810996564</td><td>0.05029585798816568</td><td>0.0391304347826087</td></tr><tr><td>average</td><td>0.032203582256106256</td><td>0.07249075954475112</td><td>0.04824953972525138</td></tr></table>"
     },
     "execution_count": 20,
     "metadata": {},
     "output_type": "execute_result"
    }
   ],
   "source": [
    "# calculate FN, FP, error rate for each fold and average\n",
    "results = []\n",
    "header = [\"Fold\", \"False Positive\", \"False Negative\", \"Error Rates\"]\n",
    "results.append(header)\n",
    "for i in range(0, 5):\n",
    "    tmp = [i+1, FPlists[i], FNlists[i], errorlists[i]]\n",
    "    results.append(tmp)\n",
    "tmp = [\"average\", np.mean(FPlists), np.mean(FNlists), np.mean(errorlists)]\n",
    "results.append(tmp)\n",
    "# show results in table\n",
    "HTML('<table><tr>{}</tr></table>'.format(\n",
    "       '</tr><tr>'.join(\n",
    "           '<td>{}</td>'.format('</td><td>'.join(str(_) for _ in row)) for row in results)))"
   ],
   "metadata": {
    "collapsed": false,
    "pycharm": {
     "name": "#%%\n"
    }
   }
  },
  {
   "cell_type": "markdown",
   "source": [
    "## Choice of Classifier\n",
    "Different classification algorithms can be applied to this task, and I tried SVM, LogisticRegression and DecisionTreeClassifier. Among them, the best model is using SVM with rbf kernel, and the second one is using LogisticRegression with accuracy about 93.7%, the worst one is using DecisionTree with accuracy about 92.2%."
   ],
   "metadata": {
    "collapsed": false,
    "pycharm": {
     "name": "#%% md\n"
    }
   }
  }
 ],
 "metadata": {
  "kernelspec": {
   "display_name": "Python 3",
   "language": "python",
   "name": "python3"
  },
  "language_info": {
   "codemirror_mode": {
    "name": "ipython",
    "version": 2
   },
   "file_extension": ".py",
   "mimetype": "text/x-python",
   "name": "python",
   "nbconvert_exporter": "python",
   "pygments_lexer": "ipython2",
   "version": "2.7.6"
  }
 },
 "nbformat": 4,
 "nbformat_minor": 0
}